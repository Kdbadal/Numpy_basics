{
 "cells": [
  {
   "cell_type": "markdown",
   "id": "3c827b29-66f4-43f1-b27c-c4d3227eecb6",
   "metadata": {},
   "source": [
    "**Numpy Basics**"
   ]
  },
  {
   "cell_type": "code",
   "execution_count": 1,
   "id": "c1dcd9f2-a055-4b34-88a8-33d07955f32c",
   "metadata": {},
   "outputs": [
    {
     "name": "stdout",
     "output_type": "stream",
     "text": [
      "Requirement already satisfied: numpy in /home/kush/my-jupyter-env/lib/python3.10/site-packages (1.25.2)\n",
      "\n",
      "\u001b[1m[\u001b[0m\u001b[34;49mnotice\u001b[0m\u001b[1;39;49m]\u001b[0m\u001b[39;49m A new release of pip is available: \u001b[0m\u001b[31;49m23.1.2\u001b[0m\u001b[39;49m -> \u001b[0m\u001b[32;49m23.2.1\u001b[0m\n",
      "\u001b[1m[\u001b[0m\u001b[34;49mnotice\u001b[0m\u001b[1;39;49m]\u001b[0m\u001b[39;49m To update, run: \u001b[0m\u001b[32;49mpip install --upgrade pip\u001b[0m\n"
     ]
    }
   ],
   "source": [
    "!pip install numpy"
   ]
  },
  {
   "cell_type": "code",
   "execution_count": 2,
   "id": "ff9b5a22-3e1c-44f9-ae92-30cf75ace3ea",
   "metadata": {},
   "outputs": [
    {
     "name": "stdout",
     "output_type": "stream",
     "text": [
      "[1, 2, 3, 4, 5]\n"
     ]
    }
   ],
   "source": [
    "#initializing normal array in python\n",
    "arr = [1,2,3,4,5]\n",
    "print(arr)"
   ]
  },
  {
   "cell_type": "code",
   "execution_count": 3,
   "id": "1ef8368e-2d5a-416c-8d04-1f4cfe4754fd",
   "metadata": {},
   "outputs": [
    {
     "name": "stdout",
     "output_type": "stream",
     "text": [
      "[1 2 3 4 5]\n",
      "<class 'numpy.ndarray'>\n"
     ]
    }
   ],
   "source": [
    "#importing numpy library with its alias\n",
    "import numpy as np\n",
    "#creating array with numpy .array\n",
    "arr = np.array([1,2,3,4,5])\n",
    "print(arr)\n",
    "print(type(arr))"
   ]
  },
  {
   "cell_type": "code",
   "execution_count": 4,
   "id": "d88e5e21-6398-4f9e-bc5e-70030db530b1",
   "metadata": {},
   "outputs": [
    {
     "name": "stdout",
     "output_type": "stream",
     "text": [
      "1.25.2\n"
     ]
    }
   ],
   "source": [
    "#checking numpy version\n",
    "print(np.__version__)"
   ]
  },
  {
   "cell_type": "code",
   "execution_count": 5,
   "id": "93cd09cd-0d01-4c0d-8735-5108dc9b372e",
   "metadata": {},
   "outputs": [
    {
     "name": "stdout",
     "output_type": "stream",
     "text": [
      "[1 2 3 4 5]\n"
     ]
    }
   ],
   "source": [
    "arr = np.array((1, 2, 3, 4, 5))\n",
    "\n",
    "print(arr) "
   ]
  },
  {
   "cell_type": "code",
   "execution_count": 6,
   "id": "497bd955-43d1-4787-8bcd-12fd52c0eb64",
   "metadata": {},
   "outputs": [
    {
     "name": "stdout",
     "output_type": "stream",
     "text": [
      "[[1 2 3]\n",
      " [4 5 6]]\n"
     ]
    }
   ],
   "source": [
    "#two dimensional array\n",
    "arr = np.array([[1, 2, 3], [4, 5, 6]])\n",
    "\n",
    "print(arr) \n"
   ]
  },
  {
   "cell_type": "code",
   "execution_count": 7,
   "id": "9650e550-9465-426f-a8bc-93aabe5fc598",
   "metadata": {},
   "outputs": [
    {
     "name": "stdout",
     "output_type": "stream",
     "text": [
      "2\n"
     ]
    }
   ],
   "source": [
    "print(arr.ndim)\n"
   ]
  },
  {
   "cell_type": "code",
   "execution_count": 8,
   "id": "b90b3a71-b548-4e4a-95a0-65d98659dec0",
   "metadata": {},
   "outputs": [],
   "source": [
    "lst=[1,23,4,5]\n",
    "arr = np.array(lst)\n",
    "\n"
   ]
  },
  {
   "cell_type": "code",
   "execution_count": 9,
   "id": "0234b6a0-8733-4473-96e5-ff6b2251ae88",
   "metadata": {},
   "outputs": [
    {
     "data": {
      "text/plain": [
       "numpy.ndarray"
      ]
     },
     "execution_count": 9,
     "metadata": {},
     "output_type": "execute_result"
    }
   ],
   "source": [
    "type(arr)"
   ]
  },
  {
   "cell_type": "code",
   "execution_count": 10,
   "id": "3f8190c8-c158-4e72-8664-4d5edb02201f",
   "metadata": {},
   "outputs": [
    {
     "data": {
      "text/plain": [
       "array([ 1, 23,  4,  5])"
      ]
     },
     "execution_count": 10,
     "metadata": {},
     "output_type": "execute_result"
    }
   ],
   "source": [
    "arr"
   ]
  },
  {
   "cell_type": "code",
   "execution_count": 11,
   "id": "c4275dc7-775b-4674-ae5c-dc05c03b0900",
   "metadata": {},
   "outputs": [
    {
     "data": {
      "text/plain": [
       "5"
      ]
     },
     "execution_count": 11,
     "metadata": {},
     "output_type": "execute_result"
    }
   ],
   "source": [
    "arr[3]"
   ]
  },
  {
   "cell_type": "code",
   "execution_count": 12,
   "id": "941ac097-a60f-414a-a39e-e71b1b324f8c",
   "metadata": {},
   "outputs": [
    {
     "data": {
      "text/plain": [
       "1.2204032943178408e+39"
      ]
     },
     "execution_count": 12,
     "metadata": {},
     "output_type": "execute_result"
    }
   ],
   "source": [
    "a=90\n",
    "#sin value of a\n",
    "np.sin(a)\n",
    "#exp value of a\n",
    "np.exp(a)"
   ]
  },
  {
   "cell_type": "code",
   "execution_count": 13,
   "id": "df3f4f63-d7e0-490d-b11b-0309fcafc2fd",
   "metadata": {},
   "outputs": [
    {
     "data": {
      "text/plain": [
       "1"
      ]
     },
     "execution_count": 13,
     "metadata": {},
     "output_type": "execute_result"
    }
   ],
   "source": [
    "arr = np.array([1,23,4,5,6,9,5,4,5,595,55,5515,55,52])\n",
    "#sum of an array\n",
    "np.sum(arr)\n",
    "#mean of an array\n",
    "np.mean(arr)\n",
    "#max of an array\n",
    "np.max(arr)\n",
    "#min of an array\n",
    "np.min(arr)"
   ]
  },
  {
   "cell_type": "code",
   "execution_count": 14,
   "id": "573de029-6ac7-4299-a517-b5660d5d1845",
   "metadata": {},
   "outputs": [
    {
     "data": {
      "text/plain": [
       "1412.0166790944136"
      ]
     },
     "execution_count": 14,
     "metadata": {},
     "output_type": "execute_result"
    }
   ],
   "source": [
    "#finding standard deviation of an array\n",
    "np.std(arr)"
   ]
  },
  {
   "cell_type": "code",
   "execution_count": 15,
   "id": "da746e2d-8559-4c7d-9406-c7e413ab4c52",
   "metadata": {},
   "outputs": [
    {
     "data": {
      "text/plain": [
       "1993791.1020408163"
      ]
     },
     "execution_count": 15,
     "metadata": {},
     "output_type": "execute_result"
    }
   ],
   "source": [
    "#finding vaiance of an array\n",
    "np.var(arr)"
   ]
  },
  {
   "cell_type": "code",
   "execution_count": 38,
   "id": "c5524908-1356-47de-b392-4648ec263503",
   "metadata": {},
   "outputs": [
    {
     "data": {
      "text/plain": [
       "array([   1,   23,    4,    5,    6,    9,    5,    4,    5,  595,   55,\n",
       "       5515,   55,   52,    2,    3,    4,    5,   67])"
      ]
     },
     "execution_count": 38,
     "metadata": {},
     "output_type": "execute_result"
    }
   ],
   "source": [
    "arr1 = np.array([2,3,4,5,67])\n",
    "np.concatenate((arr, arr1), axis=0, out=None, dtype=None, casting=\"same_kind\")\n"
   ]
  },
  {
   "cell_type": "code",
   "execution_count": 49,
   "id": "de5b3e52-e00e-4415-86fd-9894007251fd",
   "metadata": {},
   "outputs": [],
   "source": [
    "ab = np.array([[1,2,3,49],[2,5,4,8]])\n"
   ]
  },
  {
   "cell_type": "code",
   "execution_count": 54,
   "id": "8761dc44-720f-4517-9bce-76fb36094eda",
   "metadata": {},
   "outputs": [
    {
     "data": {
      "text/plain": [
       "(2, 4)"
      ]
     },
     "execution_count": 54,
     "metadata": {},
     "output_type": "execute_result"
    }
   ],
   "source": [
    "#get dimension\n",
    "ab.shape\n"
   ]
  },
  {
   "cell_type": "code",
   "execution_count": 52,
   "id": "f2376c92-6daf-4049-9229-20c0cc4f59d2",
   "metadata": {},
   "outputs": [],
   "source": [
    "a = np.array([[1,2,3,4,5,6,7],[8,9,10,11,12,13,14]])\n"
   ]
  },
  {
   "cell_type": "code",
   "execution_count": 53,
   "id": "b4471fda-dee3-447b-8008-449ef0deadec",
   "metadata": {},
   "outputs": [
    {
     "data": {
      "text/plain": [
       "array([[ 1,  2,  3,  4,  5,  6,  7],\n",
       "       [ 8,  9, 10, 11, 12, 13, 14]])"
      ]
     },
     "execution_count": 53,
     "metadata": {},
     "output_type": "execute_result"
    }
   ],
   "source": [
    "a\n",
    "\n"
   ]
  },
  {
   "cell_type": "code",
   "execution_count": null,
   "id": "ab0d0d87-0c90-413d-8cd9-4d28833444db",
   "metadata": {},
   "outputs": [],
   "source": []
  }
 ],
 "metadata": {
  "kernelspec": {
   "display_name": "Python 3 (ipykernel)",
   "language": "python",
   "name": "python3"
  },
  "language_info": {
   "codemirror_mode": {
    "name": "ipython",
    "version": 3
   },
   "file_extension": ".py",
   "mimetype": "text/x-python",
   "name": "python",
   "nbconvert_exporter": "python",
   "pygments_lexer": "ipython3",
   "version": "3.10.12"
  }
 },
 "nbformat": 4,
 "nbformat_minor": 5
}
